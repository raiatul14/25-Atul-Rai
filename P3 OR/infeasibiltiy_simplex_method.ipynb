{
  "nbformat": 4,
  "nbformat_minor": 0,
  "metadata": {
    "colab": {
      "name": "infeasibiltiy_simplex_method.ipynb",
      "provenance": []
    },
    "kernelspec": {
      "name": "python3",
      "display_name": "Python 3"
    }
  },
  "cells": [
    {
      "cell_type": "markdown",
      "metadata": {
        "id": "SRR-RDOHkIX3"
      },
      "source": [
        "solve following linear programming problem using simplex method\n",
        "\n",
        "```\n",
        "Example:\n",
        "Max z=200x-300y subject to\n",
        "2x+3y>=1200\n",
        "x+y<=400\n",
        "2x+3/2y>=900\n",
        "x,y>=0\n",
        "```\n",
        "\n"
      ]
    },
    {
      "cell_type": "code",
      "metadata": {
        "id": "f4H8Pi4nkfSZ"
      },
      "source": [
        "from scipy.optimize import linprog"
      ],
      "execution_count": 1,
      "outputs": []
    },
    {
      "cell_type": "code",
      "metadata": {
        "id": "ZKY7BeC8kimV"
      },
      "source": [
        "obj=[-200, 300]"
      ],
      "execution_count": 2,
      "outputs": []
    },
    {
      "cell_type": "code",
      "metadata": {
        "id": "-35frf35kkbv"
      },
      "source": [
        "lhs_ineq=[[-2,-3],  #red constraint left side\n",
        "          [1,1],  #blue constraint left side\n",
        "          [-2,-1.5]]  #yellow constraint left side"
      ],
      "execution_count": 3,
      "outputs": []
    },
    {
      "cell_type": "code",
      "metadata": {
        "id": "xDtEgYcGkxGL"
      },
      "source": [
        "rhs_ineq=[-1200,  #red constraint right side\n",
        "          400,  #blue constraint right side\n",
        "          -900] #yellow constraint right side"
      ],
      "execution_count": 4,
      "outputs": []
    },
    {
      "cell_type": "code",
      "metadata": {
        "id": "eFKSK-kEk81C"
      },
      "source": [
        "bnd=[(0, float(\"inf\")), #bounds of x\n",
        "     (0, float(\"inf\"))] #bounds of y"
      ],
      "execution_count": 5,
      "outputs": []
    },
    {
      "cell_type": "code",
      "metadata": {
        "id": "ZIm7JbQ9lE5o"
      },
      "source": [
        "opt=linprog(c=obj, A_ub=lhs_ineq, b_ub=rhs_ineq, bounds=bnd, method=\"revised simplex\")"
      ],
      "execution_count": 7,
      "outputs": []
    },
    {
      "cell_type": "code",
      "metadata": {
        "colab": {
          "base_uri": "https://localhost:8080/"
        },
        "id": "gIPu4CMZlPVq",
        "outputId": "2d5270f0-61ff-4157-b877-c2b6f35fdfbf"
      },
      "source": [
        "opt"
      ],
      "execution_count": 9,
      "outputs": [
        {
          "output_type": "execute_result",
          "data": {
            "text/plain": [
              "     con: array([], dtype=float64)\n",
              "     fun: 120000.0\n",
              " message: 'The problem appears infeasible, as the phase one auxiliary problem terminated successfully with a residual of 3.0e+02, greater than the tolerance 1e-12 required for the solution to be considered feasible. Consider increasing the tolerance to be greater than 3.0e+02. If this tolerance is unnaceptably large, the problem is likely infeasible.'\n",
              "     nit: 1\n",
              "   slack: array([   0.,    0., -300.])\n",
              "  status: 2\n",
              " success: False\n",
              "       x: array([  0., 400.])"
            ]
          },
          "metadata": {
            "tags": []
          },
          "execution_count": 9
        }
      ]
    }
  ]
}