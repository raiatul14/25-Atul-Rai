{
  "nbformat": 4,
  "nbformat_minor": 0,
  "metadata": {
    "colab": {
      "name": "three_var_simplex_method.ipynb",
      "provenance": []
    },
    "kernelspec": {
      "name": "python3",
      "display_name": "Python 3"
    }
  },
  "cells": [
    {
      "cell_type": "markdown",
      "metadata": {
        "id": "VLBcaMaqejET"
      },
      "source": [
        "solve the following linear programming problem with three variables using simplex method.\n",
        "\n",
        "```\n",
        "Max z=x1-3x2+2x3 subject to\n",
        "3x1-x2+3x3<=7\n",
        "-2x1+4x2<=12\n",
        "-4x1+3x2+8x3<=10\n",
        "x1,x2,x3>=0\n",
        "```"
      ]
    },
    {
      "cell_type": "code",
      "metadata": {
        "id": "wt205Qb6fFtd"
      },
      "source": [
        "from scipy.optimize import linprog"
      ],
      "execution_count": 1,
      "outputs": []
    },
    {
      "cell_type": "code",
      "metadata": {
        "id": "HcDxMSK_fKcd"
      },
      "source": [
        "obj = [1, -3, 2]"
      ],
      "execution_count": 2,
      "outputs": []
    },
    {
      "cell_type": "code",
      "metadata": {
        "id": "VpJ3zW1XfPor"
      },
      "source": [
        "lhs_ineq=[[3,-1,3], #red constraint left side\n",
        "          [-2,4,0], #blue constraint left side\n",
        "          [-4,3,8]] #yellow constraint left side"
      ],
      "execution_count": 3,
      "outputs": []
    },
    {
      "cell_type": "code",
      "metadata": {
        "id": "nuuF0Xq-fgSm"
      },
      "source": [
        "rhs_ineq=[7,  #red constraint right side\n",
        "          12, #blue constraint right side\n",
        "          10] #yellow constraint right side"
      ],
      "execution_count": 4,
      "outputs": []
    },
    {
      "cell_type": "code",
      "metadata": {
        "id": "K2_5kR-1fuMz"
      },
      "source": [
        "bnd=[(0, float(\"inf\")), #bounds of x\n",
        "     (0, float(\"inf\")), \n",
        "     (0, float(\"inf\"))  #bounds of y\n",
        "     ]"
      ],
      "execution_count": 5,
      "outputs": []
    },
    {
      "cell_type": "code",
      "metadata": {
        "colab": {
          "base_uri": "https://localhost:8080/"
        },
        "id": "8LXlUgzOf76c",
        "outputId": "69df0e1c-96f9-4c53-b06c-c19220a1732e"
      },
      "source": [
        "opt=linprog(c=obj, A_ub=lhs_ineq, b_ub=rhs_ineq, bounds=bnd, method=\"revised simplex\")\n",
        "opt"
      ],
      "execution_count": 7,
      "outputs": [
        {
          "output_type": "execute_result",
          "data": {
            "text/plain": [
              "     con: array([], dtype=float64)\n",
              "     fun: -11.0\n",
              " message: 'Optimization terminated successfully.'\n",
              "     nit: 2\n",
              "   slack: array([ 0.,  0., 11.])\n",
              "  status: 0\n",
              " success: True\n",
              "       x: array([4., 5., 0.])"
            ]
          },
          "metadata": {
            "tags": []
          },
          "execution_count": 7
        }
      ]
    }
  ]
}