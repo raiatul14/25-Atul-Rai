{
  "nbformat": 4,
  "nbformat_minor": 0,
  "metadata": {
    "colab": {
      "name": "big_m_simplex_method.ipynb",
      "provenance": []
    },
    "kernelspec": {
      "name": "python3",
      "display_name": "Python 3"
    }
  },
  "cells": [
    {
      "cell_type": "markdown",
      "metadata": {
        "id": "xDpH8RC4irYS"
      },
      "source": [
        "solve following linear programming problem using Big M Simplex method.\n",
        "```\n",
        "Min z=4x1+x2\n",
        "subjcted to:\n",
        "3x1+4x2>=20\n",
        "x1+5x2>=15\n",
        "x1,x2>=0\n",
        "```"
      ]
    },
    {
      "cell_type": "code",
      "metadata": {
        "id": "wLaqY_dSjFkO"
      },
      "source": [
        "from scipy.optimize import linprog"
      ],
      "execution_count": 1,
      "outputs": []
    },
    {
      "cell_type": "code",
      "metadata": {
        "id": "qRMHKfW3jJBe"
      },
      "source": [
        "obj=[4,1]"
      ],
      "execution_count": 2,
      "outputs": []
    },
    {
      "cell_type": "code",
      "metadata": {
        "id": "0cTrL4WYjKUC"
      },
      "source": [
        "lhs_ineq=[[-3,-4],  #left side of first constraint\n",
        "          [-1,-5]]  #right side of first constraint"
      ],
      "execution_count": 3,
      "outputs": []
    },
    {
      "cell_type": "code",
      "metadata": {
        "id": "vxVYCOLPjYr9"
      },
      "source": [
        "rhs_ineq=[-20,  #right side of first cnstraint\n",
        "          -15]  #right side of second constraint"
      ],
      "execution_count": 4,
      "outputs": []
    },
    {
      "cell_type": "code",
      "metadata": {
        "id": "0yjwHNapjnk5"
      },
      "source": [
        "bnd=[(0, float(\"inf\")), #bounds of x1\n",
        "     (0, float(\"inf\"))] #bounds of x2"
      ],
      "execution_count": 5,
      "outputs": []
    },
    {
      "cell_type": "code",
      "metadata": {
        "colab": {
          "base_uri": "https://localhost:8080/"
        },
        "id": "FP1dP-SGjw1e",
        "outputId": "25047544-6188-4777-a914-0f3666cac215"
      },
      "source": [
        "opt=linprog(c=obj, A_ub=lhs_ineq, b_ub=rhs_ineq, bounds=bnd, method=\"interior-point\")"
      ],
      "execution_count": 6,
      "outputs": [
        {
          "output_type": "stream",
          "text": [
            "/usr/local/lib/python3.6/dist-packages/numpy/core/fromnumeric.py:87: VisibleDeprecationWarning: Creating an ndarray from ragged nested sequences (which is a list-or-tuple of lists-or-tuples-or ndarrays with different lengths or shapes) is deprecated. If you meant to do this, you must specify 'dtype=object' when creating the ndarray\n",
            "  return ufunc.reduce(obj, axis, dtype, out, **passkwargs)\n"
          ],
          "name": "stderr"
        }
      ]
    },
    {
      "cell_type": "code",
      "metadata": {
        "colab": {
          "base_uri": "https://localhost:8080/"
        },
        "id": "Y5UceYDVj-9F",
        "outputId": "f2250ec7-69cb-45ea-e0af-b7917d1b3d8b"
      },
      "source": [
        "opt"
      ],
      "execution_count": 7,
      "outputs": [
        {
          "output_type": "execute_result",
          "data": {
            "text/plain": [
              "     con: array([], dtype=float64)\n",
              "     fun: 5.000000000236444\n",
              " message: 'Optimization terminated successfully.'\n",
              "     nit: 5\n",
              "   slack: array([1.6426327e-10, 1.0000000e+01])\n",
              "  status: 0\n",
              " success: True\n",
              "       x: array([6.01160437e-11, 5.00000000e+00])"
            ]
          },
          "metadata": {
            "tags": []
          },
          "execution_count": 7
        }
      ]
    }
  ]
}