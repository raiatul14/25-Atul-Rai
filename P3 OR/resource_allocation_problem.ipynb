{
  "nbformat": 4,
  "nbformat_minor": 0,
  "metadata": {
    "colab": {
      "name": "resource_allocation_problem.ipynb",
      "provenance": []
    },
    "kernelspec": {
      "name": "python3",
      "display_name": "Python 3"
    }
  },
  "cells": [
    {
      "cell_type": "markdown",
      "metadata": {
        "id": "nG-GVoO2lcw6"
      },
      "source": [
        "use scipy to solve the resource allocation problem stated as follows:\n",
        "```\n",
        "Max z= 20x1+12x2+40x3+25x4...............(profit)\n",
        "subjected to:\n",
        "x1+x2+x3+x4<=50 ----------------(manpower)\n",
        "3x1+2x2+x3<=100-----------------(material A)\n",
        "x2+2x3<=90 ---------------------(material B)\n",
        "\n",
        "x1, x2, x3, x4 >= 0\n",
        "```"
      ]
    },
    {
      "cell_type": "code",
      "metadata": {
        "id": "lnVsnIczmDCQ"
      },
      "source": [
        "from scipy.optimize import linprog"
      ],
      "execution_count": 1,
      "outputs": []
    },
    {
      "cell_type": "code",
      "metadata": {
        "id": "BxB2_8mDmGks"
      },
      "source": [
        "obj=[-20, -12, -40, -25]  #profit objective function"
      ],
      "execution_count": 2,
      "outputs": []
    },
    {
      "cell_type": "code",
      "metadata": {
        "id": "mrbIbuY9mToY"
      },
      "source": [
        "lhs_ineq=[[1,1,1,1],  #Manpower\n",
        "          [3,2,1,0],  #Material A\n",
        "          [0,1,2,3]]  #Material B"
      ],
      "execution_count": 3,
      "outputs": []
    },
    {
      "cell_type": "code",
      "metadata": {
        "id": "gxZuAOH6mfmk"
      },
      "source": [
        "rhs_ineq=[50, #manpower\n",
        "          100,  #material A\n",
        "          90] #material B"
      ],
      "execution_count": 4,
      "outputs": []
    },
    {
      "cell_type": "code",
      "metadata": {
        "id": "ErjD18p4mquv"
      },
      "source": [
        "opt=linprog(c=obj, A_ub=lhs_ineq, b_ub=rhs_ineq, method='revised simplex')"
      ],
      "execution_count": 5,
      "outputs": []
    },
    {
      "cell_type": "code",
      "metadata": {
        "colab": {
          "base_uri": "https://localhost:8080/"
        },
        "id": "wXRzmPWPm0UG",
        "outputId": "be164f41-3051-4234-98bc-a38b73667953"
      },
      "source": [
        "opt"
      ],
      "execution_count": 6,
      "outputs": [
        {
          "output_type": "execute_result",
          "data": {
            "text/plain": [
              "     con: array([], dtype=float64)\n",
              "     fun: -1900.0\n",
              " message: 'Optimization terminated successfully.'\n",
              "     nit: 2\n",
              "   slack: array([ 0., 40.,  0.])\n",
              "  status: 0\n",
              " success: True\n",
              "       x: array([ 5.,  0., 45.,  0.])"
            ]
          },
          "metadata": {
            "tags": []
          },
          "execution_count": 6
        }
      ]
    }
  ]
}