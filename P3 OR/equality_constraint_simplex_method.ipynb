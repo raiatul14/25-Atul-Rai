{
  "nbformat": 4,
  "nbformat_minor": 0,
  "metadata": {
    "colab": {
      "name": "equality_constraint_simplex_method.ipynb",
      "provenance": []
    },
    "kernelspec": {
      "name": "python3",
      "display_name": "Python 3"
    }
  },
  "cells": [
    {
      "cell_type": "markdown",
      "metadata": {
        "id": "fM9qkGN2g5zt"
      },
      "source": [
        "solve following linear programming problem with equality constraint using simplex method\n",
        "```\n",
        "Max z=x+2y subject to\n",
        "2x+y<=20\n",
        "-4x+5y<=10\n",
        "-x+2y>=-2\n",
        "-x+5y=15\n",
        "x,y>=0\n",
        "```"
      ]
    },
    {
      "cell_type": "code",
      "metadata": {
        "id": "bnaRysn6hfG-"
      },
      "source": [
        "from scipy.optimize import linprog"
      ],
      "execution_count": 1,
      "outputs": []
    },
    {
      "cell_type": "code",
      "metadata": {
        "id": "lCW9-uElhi7y"
      },
      "source": [
        "obj=[-1,-2]"
      ],
      "execution_count": 2,
      "outputs": []
    },
    {
      "cell_type": "code",
      "metadata": {
        "id": "rTTus9eMhkH7"
      },
      "source": [
        "lhs_ineq=[[2,1],  # red constraint left side\n",
        "          [-4,5], #blue constraint left side\n",
        "          [1,-2]] #yellow constraint left side"
      ],
      "execution_count": 3,
      "outputs": []
    },
    {
      "cell_type": "code",
      "metadata": {
        "id": "tmLzCcnphwLK"
      },
      "source": [
        "rhs_ineq=[20, #red constraint right side\n",
        "          10, #blue constraint right side\n",
        "          2]  #yellow constraint right side"
      ],
      "execution_count": 4,
      "outputs": []
    },
    {
      "cell_type": "code",
      "metadata": {
        "id": "roUlp_hjh6cE"
      },
      "source": [
        "lhs_eq=[[-1,5]] #green constraint left side"
      ],
      "execution_count": 5,
      "outputs": []
    },
    {
      "cell_type": "code",
      "metadata": {
        "id": "Q8g-gebGh_v2"
      },
      "source": [
        "rhs_eq=[15] #green constraint right side"
      ],
      "execution_count": 6,
      "outputs": []
    },
    {
      "cell_type": "code",
      "metadata": {
        "id": "EKfoXaTCiFAv"
      },
      "source": [
        "bnd=[(0, float(\"inf\")), #bounds of x\n",
        "     (0, float(\"inf\"))] #bounds of y"
      ],
      "execution_count": 7,
      "outputs": []
    },
    {
      "cell_type": "code",
      "metadata": {
        "id": "uioQ66bNiNjz"
      },
      "source": [
        "opt=linprog(c=obj, A_ub=lhs_ineq, b_ub=rhs_ineq,\n",
        "            A_eq=lhs_eq, b_eq=rhs_eq, bounds=bnd,\n",
        "            method='revised simplex')"
      ],
      "execution_count": 8,
      "outputs": []
    },
    {
      "cell_type": "code",
      "metadata": {
        "colab": {
          "base_uri": "https://localhost:8080/"
        },
        "id": "GRaoadKIidFo",
        "outputId": "e8646d9c-6ec4-429f-8cfc-988d0e45f48b"
      },
      "source": [
        "opt"
      ],
      "execution_count": 9,
      "outputs": [
        {
          "output_type": "execute_result",
          "data": {
            "text/plain": [
              "     con: array([0.])\n",
              "     fun: -16.818181818181817\n",
              " message: 'Optimization terminated successfully.'\n",
              "     nit: 3\n",
              "   slack: array([ 0.        , 18.18181818,  3.36363636])\n",
              "  status: 0\n",
              " success: True\n",
              "       x: array([7.72727273, 4.54545455])"
            ]
          },
          "metadata": {
            "tags": []
          },
          "execution_count": 9
        }
      ]
    }
  ]
}