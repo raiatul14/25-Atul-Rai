{
  "nbformat": 4,
  "nbformat_minor": 0,
  "metadata": {
    "colab": {
      "name": "two_var_simplex_method.ipynb",
      "provenance": []
    },
    "kernelspec": {
      "name": "python3",
      "display_name": "Python 3"
    }
  },
  "cells": [
    {
      "cell_type": "markdown",
      "metadata": {
        "id": "Zj5Lt_kpa2zp"
      },
      "source": [
        "solve the following linear programming problem with two variables using simplex method.\n",
        "\n",
        "```\n",
        "Max z=3x1+2x2\n",
        "subject to\n",
        "x1+x2<=4\n",
        "x1-x2<=2\n",
        "x1,x2>=0\n",
        "```\n",
        "\n"
      ]
    },
    {
      "cell_type": "code",
      "metadata": {
        "id": "7Csu8s8ZcAWZ"
      },
      "source": [
        "from scipy.optimize import linprog"
      ],
      "execution_count": 1,
      "outputs": []
    },
    {
      "cell_type": "code",
      "metadata": {
        "id": "Bz2Y8iSfcFyK"
      },
      "source": [
        "obj=[-3, -2]"
      ],
      "execution_count": 2,
      "outputs": []
    },
    {
      "cell_type": "code",
      "metadata": {
        "id": "JaRy1MNQcLmT"
      },
      "source": [
        "lhs_ineq = [\n",
        "            [1,1], #left side of first constraint\n",
        "            [1,-1]] #left sude of second constraint"
      ],
      "execution_count": 3,
      "outputs": []
    },
    {
      "cell_type": "code",
      "metadata": {
        "id": "ar1jFtFJcTJP"
      },
      "source": [
        "rhs_ineq=[4,  #right side constant of first constraint\n",
        "          2]  #right side constant of first constraint"
      ],
      "execution_count": 5,
      "outputs": []
    },
    {
      "cell_type": "code",
      "metadata": {
        "id": "pJ8gP2VQcWbl"
      },
      "source": [
        "bnd=[(0, float(\"inf\")), #bounds of x\n",
        "     (0, float(\"inf\"))] #bounds of y"
      ],
      "execution_count": 6,
      "outputs": []
    },
    {
      "cell_type": "code",
      "metadata": {
        "colab": {
          "base_uri": "https://localhost:8080/"
        },
        "id": "LQNbtW1Rd4h8",
        "outputId": "9485c8f4-6faf-4a4e-b03c-2f5ad8cdd5bf"
      },
      "source": [
        "opt=linprog(c=obj, A_ub=lhs_ineq, b_ub=rhs_ineq,\n",
        "            bounds=bnd, method=\"revised simplex\")\n",
        "opt"
      ],
      "execution_count": 8,
      "outputs": [
        {
          "output_type": "execute_result",
          "data": {
            "text/plain": [
              "     con: array([], dtype=float64)\n",
              "     fun: -11.0\n",
              " message: 'Optimization terminated successfully.'\n",
              "     nit: 2\n",
              "   slack: array([0., 0.])\n",
              "  status: 0\n",
              " success: True\n",
              "       x: array([3., 1.])"
            ]
          },
          "metadata": {
            "tags": []
          },
          "execution_count": 8
        }
      ]
    },
    {
      "cell_type": "code",
      "metadata": {
        "colab": {
          "base_uri": "https://localhost:8080/"
        },
        "id": "U_ZG7atGeKZn",
        "outputId": "95a40fef-0f89-433b-b901-d8b58b0102f6"
      },
      "source": [
        "opt.fun"
      ],
      "execution_count": 9,
      "outputs": [
        {
          "output_type": "execute_result",
          "data": {
            "text/plain": [
              "-11.0"
            ]
          },
          "metadata": {
            "tags": []
          },
          "execution_count": 9
        }
      ]
    },
    {
      "cell_type": "code",
      "metadata": {
        "colab": {
          "base_uri": "https://localhost:8080/"
        },
        "id": "27qyoW61eTl2",
        "outputId": "eca9f1e4-ae98-4f54-fb52-a322fb817ead"
      },
      "source": [
        "opt.x"
      ],
      "execution_count": 10,
      "outputs": [
        {
          "output_type": "execute_result",
          "data": {
            "text/plain": [
              "array([3., 1.])"
            ]
          },
          "metadata": {
            "tags": []
          },
          "execution_count": 10
        }
      ]
    }
  ]
}